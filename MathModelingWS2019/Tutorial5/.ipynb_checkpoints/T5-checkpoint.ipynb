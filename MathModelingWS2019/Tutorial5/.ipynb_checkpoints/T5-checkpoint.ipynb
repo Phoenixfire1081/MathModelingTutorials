{
 "cells": [
  {
   "cell_type": "markdown",
   "metadata": {},
   "source": [
    "# Math modeling in Climate Research\n",
    "\n",
    "## Tutorial 5 - Shallow Water Equations\n",
    "\n",
    "References:\n",
    "\n",
    "[1] Klein R., Vater S., Päschke E., Ruprecht D., \"*Multiple scales methods in meteorology*\", \n",
    "in: Asymptotic Methods in Fluid Mechanics: Survey and Recent Advances, \n",
    "Springer Series: CISM International Centre for Mechanical Sciences, 523, 127--196, (2011)\n",
    "\n",
    "[2] Bouchut, François., \"*Efficient numerical finite volume schemes for shallow water models.*\", Edited Series on Advances in Nonlinear Science and Complexity 2 (2007): 189-256.\n",
    "\n",
    "[3] Audusse, Emmanuel, et al., \"*A fast and stable well-balanced scheme with hydrostatic reconstruction for shallow water flows.*\" SIAM Journal on Scientific Computing 25.6 (2004): 2050-2065.\n",
    "\n",
    "__Note:__ Please download the shallow water equations code."
   ]
  },
  {
   "cell_type": "markdown",
   "metadata": {},
   "source": [
    "The code implements an explicit well-balanced shock-capturing scheme [2, 3] for the quasi-one dimensional SWE including bottom orography and coriolis effect which is given by,\n",
    "\n",
    "<center>\n",
    "    $h_{t} + (hu)_{x} = 0$ <br>\n",
    "    $(hu)_{t} + (hu^{2} + \\pi)_{x} - fhv = -ghz_{x}$ <br>\n",
    "    $(hv)_{t} + (huv)_{x} + fhu = 0$ <br>\n",
    "    $\\pi = gh^{2}/2$\n",
    "</center>\n",
    "\n",
    "All quantities are described in accordance with the previous tutorials. $z(x)$ is the time independent orography and $f$ is the constant coriolis parameter."
   ]
  },
  {
   "cell_type": "markdown",
   "metadata": {},
   "source": [
    "__*Exercises:*__\n",
    "\n",
    "(19) Implement the Test 3: Stability of steady states with nonzero velocity from [2].\n",
    "\n",
    "(20) From [3], implement the problem: small perturbations of the steady state of a lake at rest with varying bottom topography,<br>\n",
    "\n",
    "<br>\n",
    "<center>\n",
    "$z(x) = (0.25(cos(\\pi (x - 1.5)/0.1) + 1))_{+}$ <br>\n",
    "$h(0, x) = 1. + 0.001\\mathbb{1}_{1.1 \\leq x \\leq 1.2}$\n",
    "</center>\n",
    "<br>\n",
    "\n",
    "(21) From [3], implement the oscillating lake problem,\n",
    "\n",
    "<br>\n",
    "<center>\n",
    "$z(x) = 0.5(1 - 0.5(cos(\\pi(x - 0.5)/0.5)+1))$ <br>\n",
    "$h(0, x) = max(0, 0.4-z(x)+0.04sin((x-0.5)/0.25) - max(0, -0.4+z(x)))$\n",
    "</center>\n",
    "<br>\n",
    "\n",
    "(22) Time scales, perturbation amplitudes, and Froude numbers: \n",
    "\n",
    "Set up a new experiment for the shallow water equations without rotation and without \n",
    "bottom orography, i.e., with $f = 0$ and $z \\equiv 0$. Implement initial data\n",
    "\n",
    "\\begin{equation}\n",
    "h(0,x) = h_0 = \\text{const}. \\qquad u(0,x) = 0  \\qquad (0 < x < L)\n",
    "\\end{equation}\n",
    "\n",
    "and a rigid wall boundary condition \n",
    "\n",
    "\\begin{equation}\n",
    "u(t,L) = 0\\,.\n",
    "\\end{equation}\n",
    "\n",
    "We will now analyse the response of the system to different excitations imposed by\n",
    "connecting the system to an infinite reservoir with prescribed water height \n",
    "$h_l(t)$ on the left. \n",
    "\n",
    "Building on the routines invoked in the default experiment, impose a reservoir \n",
    "height function\n",
    "\n",
    "\\begin{equation}\n",
    "h_l(t;\\delta,\\omega) = h_0 + \\delta (1-\\cos(\\omega t))\\,.\n",
    "\\end{equation}\n",
    "\n",
    "(a) Check that both the left and right boundary conditions are (approximately) observed during\n",
    "a few test runs with different $(\\delta, \\omega)$-pairs.\n",
    "\n",
    "(b) Pick some $\\delta \\ll 1$ and a (finite) sequence of frequencies $(\\omega_i)_{i=1}^{m}$\n",
    "(start with $m=5$) that cover the range of fast and slow time scales considered on Assignment 1 (SWE asymptotics). Monitor and report the relations between the magnitudes of height perturbations \n",
    "$(h(t,x) - h_0)$, and the local Froude number $Fr(t,x)$ as a function of the frequency.\n"
   ]
  }
 ],
 "metadata": {
  "kernelspec": {
   "display_name": "Python 3 (ipykernel)",
   "language": "python",
   "name": "python3"
  },
  "language_info": {
   "codemirror_mode": {
    "name": "ipython",
    "version": 3
   },
   "file_extension": ".py",
   "mimetype": "text/x-python",
   "name": "python",
   "nbconvert_exporter": "python",
   "pygments_lexer": "ipython3",
   "version": "3.12.3"
  }
 },
 "nbformat": 4,
 "nbformat_minor": 2
}
