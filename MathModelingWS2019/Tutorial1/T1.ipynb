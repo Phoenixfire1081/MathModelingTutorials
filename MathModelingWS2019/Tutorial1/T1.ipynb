{
 "cells": [
  {
   "cell_type": "markdown",
   "metadata": {},
   "source": [
    "# Math modeling in Climate Research\n",
    "\n",
    "## Tutorial 1 - Dimensional Analysis\n",
    "\n",
    "References:\n",
    "\n",
    "[1] Klein R., Vater S., Päschke E., Ruprecht D., *Multiple scales methods in meteorology*, \n",
    "in: Asymptotic Methods in Fluid Mechanics: Survey and Recent Advances, \n",
    "Springer Series: CISM International Centre for Mechanical Sciences, 523, 127--196, (2011)\n",
    "\n",
    "__Prerequisite for running this notebook:__ [Pint](https://pint.readthedocs.io/en/0.9/)"
   ]
  },
  {
   "cell_type": "markdown",
   "metadata": {},
   "source": [
    "### Example 1 - The Simple Pendulum\n",
    "\n",
    "$f(T, M, L, g) = 0$\n",
    "<br><br>\n",
    "T - Time period of oscillation - $\\mathcal{T}$<br>\n",
    "M - Mass of the pendulum - $\\mathcal{M}$<br>\n",
    "L - Length of the attached string - $\\mathcal{L}$<br>\n",
    "g - Acceleration due to gravity - $\\mathcal{M/T^{2}}$"
   ]
  },
  {
   "cell_type": "code",
   "execution_count": 1,
   "metadata": {},
   "outputs": [],
   "source": [
    "# Import commands - It is similar to using header files in C/C++\n",
    "# The following command imports the pi_theorem class from the pint package\n",
    "# All classes can be imported by inserting * after import i.e. from pint import * \n",
    "\n",
    "from pint import pi_theorem"
   ]
  },
  {
   "cell_type": "code",
   "execution_count": 2,
   "metadata": {},
   "outputs": [
    {
     "name": "stdout",
     "output_type": "stream",
     "text": [
      "[{'T': 2.0, 'L': -1.0, 'g': 1.0}]\n"
     ]
    }
   ],
   "source": [
    "# The quantities can be entered in the following format ({'name':'[dimension]'})\n",
    "# The format is called a dictionary which consists of a collection of key-value pairs.\n",
    "\n",
    "result = pi_theorem({'T':'[time]','M':'[mass]','L':'[length]','g':'[length]/[time]**2'})\n",
    "\n",
    "print(result)"
   ]
  },
  {
   "cell_type": "code",
   "execution_count": 3,
   "metadata": {},
   "outputs": [],
   "source": [
    "# The following command imports yet another class from the pint package called formatter.\n",
    "# It converts the result in a nice readable format.\n",
    "\n",
    "from pint import formatter"
   ]
  },
  {
   "cell_type": "code",
   "execution_count": 4,
   "metadata": {},
   "outputs": [
    {
     "name": "stdout",
     "output_type": "stream",
     "text": [
      "T ** 2 * g / L\n"
     ]
    }
   ],
   "source": [
    "print(formatter(result[0].items()))"
   ]
  },
  {
   "cell_type": "code",
   "execution_count": 5,
   "metadata": {},
   "outputs": [
    {
     "name": "stdout",
     "output_type": "stream",
     "text": [
      "T ** 2 * g / L\n"
     ]
    }
   ],
   "source": [
    "# The following command uses the Unit Registry and it's predefined dimensions. \n",
    "\n",
    "from pint import UnitRegistry\n",
    "\n",
    "units = UnitRegistry()\n",
    "result = units.pi_theorem({'T':'[time]','M':'[mass]','L':'[length]','g':'[acceleration]'})\n",
    "\n",
    "print(formatter(result[0].items()))"
   ]
  },
  {
   "cell_type": "markdown",
   "metadata": {},
   "source": [
    "### Example 2 - Linear oscillator\n",
    "\n",
    "The general solution for the linear oscillator [1] is given by\n",
    "<br><br>\n",
    "\n",
    "<center>\n",
    "$m \\ddot{x} + k\\dot{x} + cx = F_{0} cos (\\Omega t)$\n",
    "</center>\n",
    "\n",
    "and initial conditions $x(0) = x_{0}$ and $\\dot{x}(0) = \\dot{x}_{0}$."
   ]
  },
  {
   "cell_type": "markdown",
   "metadata": {},
   "source": [
    "(1) Identify and write all quantities and it's associated physical dimension in markdown mode. <br>\n",
    "(2) With the help of pint package, obtain all the independent dimensionless combinations. <br>\n",
    "(3) The first three quantities entered here correspond to the fundamental physical dimensions. Try changing these to $c, F_{0}, \\Omega$."
   ]
  }
 ],
 "metadata": {
  "kernelspec": {
   "display_name": "Python 3 (ipykernel)",
   "language": "python",
   "name": "python3"
  },
  "language_info": {
   "codemirror_mode": {
    "name": "ipython",
    "version": 3
   },
   "file_extension": ".py",
   "mimetype": "text/x-python",
   "name": "python",
   "nbconvert_exporter": "python",
   "pygments_lexer": "ipython3",
   "version": "3.12.3"
  }
 },
 "nbformat": 4,
 "nbformat_minor": 2
}
