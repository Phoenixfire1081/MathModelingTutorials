{
 "cells": [
  {
   "cell_type": "markdown",
   "metadata": {},
   "source": [
    "# Math modeling in Climate Research\n",
    "\n",
    "## Tutorial 3 - Oscillator Asymptotics\n",
    "\n",
    "References:\n",
    "\n",
    "[1] Klein R., Vater S., Päschke E., Ruprecht D., *Multiple scales methods in meteorology*, \n",
    "in: Asymptotic Methods in Fluid Mechanics: Survey and Recent Advances, \n",
    "Springer Series: CISM International Centre for Mechanical Sciences, 523, 127--196, (2011)"
   ]
  },
  {
   "cell_type": "markdown",
   "metadata": {},
   "source": [
    "### Impact of choosing a distinguished limit\n",
    "\n",
    "_**Fast-time Asymptotic Expansion**_\n",
    "\n",
    "When we use the time coordinate $\\tau = \\Omega t$, we tend to miss the fast oscillatory motions associated with the free oscillation time scale $\\sqrt{m/c}$. Therefore, the rescaled time variable can be written as, \n",
    "\n",
    "<center>\n",
    "$\\vartheta = \\frac{t}{\\sqrt{m/c}} = \\frac{\\tau}{\\sqrt{m\\Omega^{2}/c}} = \\frac{\\tau}{\\sqrt{\\epsilon}}$\n",
    "</center>\n",
    "\n",
    "_**Case 1:**_ $\\mu$ ~ $\\kappa$ ($\\mu = \\epsilon$ and $\\kappa = \\epsilon \\hat{\\kappa}$ with $\\hat{\\kappa}$ = const. as $\\epsilon \\rightarrow 0$)\n",
    "\n",
    "(10) With the rescaled time variable, derive approximate solutions with asymptotic analysis similar to the previous tutorial. \n",
    "\n",
    "_**Case 3:**_ $\\mu$ ~ $\\kappa^{3}$ ($\\mu = \\epsilon$ and $\\kappa = \\epsilon^{1/3} \\hat{\\kappa}$ with $\\hat{\\kappa}$ = const. as $\\epsilon \\rightarrow 0$)\n",
    "\n",
    "(11) How can we rescale the time variable to account for the fast damping motions? Derive approximate solutions.\n",
    "\n",
    "(12) Make plots of the leading and first order approximate solutions for both cases by choosing $\\epsilon = 0.001$, $\\hat{\\kappa} = 0.8$, $y_{0} = 2$ and $y'_{0} = 0$.\n",
    "\n",
    "_**Multiple Scales analysis**_\n",
    "\n",
    "Since the previous analyses enabled us to recover part of the solution, we can consider an asymptotic expansion scheme that accounts for multiple timescales in a single sweep. \n",
    "\n",
    "_**Case 1:**_ $\\mu$ ~ $\\kappa$ ($\\mu = \\epsilon$ and $\\kappa = \\epsilon \\hat{\\kappa}$ with $\\hat{\\kappa}$ = const. as $\\epsilon \\rightarrow 0$)\n",
    "\n",
    "(13) How does the ansatz look like for this case? Derive leading-order multiple scales solution and plot the same with $\\epsilon = 0.001$, $\\hat{\\kappa} = 0.8$, $y_{0} = 2$ and $y'_{0} = 10$.\n",
    "\n",
    "_**Case 3:**_ $\\mu$ ~ $\\kappa^{3}$ ($\\mu = \\epsilon$ and $\\kappa = \\epsilon^{1/3} \\hat{\\kappa}$ with $\\hat{\\kappa}$ = const. as $\\epsilon \\rightarrow 0$)\n",
    "\n",
    "(14) Can this be done for case 3? If so, what does the solution look like?"
   ]
  },
  {
   "cell_type": "markdown",
   "metadata": {},
   "source": [
    "### Assignment 1\n",
    "\n",
    "**_The 1D Shallow Water Equations (SWE)_**\n",
    "\n",
    "The 1D shallow water equations in a channel of length $L$ (and arbitrary width $B$) read as \n",
    "<br><br>\n",
    "\n",
    "<center>\n",
    "$h_{t} + (hu)_{x} = 0$ <br>\n",
    "$(hu)_{t} + (hu^{2} + \\pi)_{x} = 0$<br>\n",
    "$\\pi = gh^{2}/2$\n",
    "</center>\n",
    "\n",
    "<br>\n",
    "\n",
    "Here $t$ denotes the time and $x$ is the space coordinate, $(h, hu)$ are the water column mass and momentum per unit area, respectively, $u$ is the flow velocity, $\\pi$ is an effective \"pressure\", and $g$ is the acceleration due to gravity.\n",
    "<br>\n",
    "\n",
    "In addition to the channel dimensions $(L, B)$, you are given a characteristic water depth $H$ and flow velocity $U$, and a typical flow duration $T$.\n",
    "<br>\n",
    "\n",
    "(a) Aside from the dimensionless time and space coordinates $t'' = t/T$ and $x' = x/L$, how many **_independent dimensionless numbers_** do you expect to arise in a non-dimensionalization of these equations?"
   ]
  },
  {
   "cell_type": "markdown",
   "metadata": {},
   "source": [
    "(b) Derive a non-dimensional representation of the shallow water equations adopting the advection time scale $T_{a} = L/U$ instead of $T$ as the time unit of measure. "
   ]
  },
  {
   "cell_type": "markdown",
   "metadata": {},
   "source": [
    "**_Single scale Asymptotics_**\n",
    "\n",
    "A possible way of rewriting SWE in dimensionless form is \n",
    "\n",
    "<center>\n",
    "$h_{t} + uh_{x} + hu_{x} = 0$ <br>\n",
    "$u_{t} + uu_{x} + \\frac{1}{\\epsilon^{2}} hh_{x} = 0$\n",
    "</center>\n",
    "\n",
    "(a) Derive the leading order single scale asymptotics of the above equation for $(h, u)(t, x; \\epsilon) = \\mathcal{O} (1)$ as $\\epsilon \\rightarrow 0$. What are the suitable initial and boundary conditions for this model?\n",
    "\n",
    "(b) Reconsider the asymptotic limit using the fast time scale coordinate $\\tau = \\frac{t}{\\epsilon}$. What are the suitable initial and boundary conditions for this model?"
   ]
  }
 ],
 "metadata": {
  "kernelspec": {
   "display_name": "Python 3 (ipykernel)",
   "language": "python",
   "name": "python3"
  },
  "language_info": {
   "codemirror_mode": {
    "name": "ipython",
    "version": 3
   },
   "file_extension": ".py",
   "mimetype": "text/x-python",
   "name": "python",
   "nbconvert_exporter": "python",
   "pygments_lexer": "ipython3",
   "version": "3.12.3"
  }
 },
 "nbformat": 4,
 "nbformat_minor": 2
}
