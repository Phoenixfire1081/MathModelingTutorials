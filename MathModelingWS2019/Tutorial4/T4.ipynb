{
 "cells": [
  {
   "cell_type": "markdown",
   "metadata": {},
   "source": [
    "# Math modeling in Climate Research\n",
    "\n",
    "## Tutorial 4 - Shallow Water Equations\n",
    "\n",
    "References:\n",
    "\n",
    "[1] Klein R., Vater S., Päschke E., Ruprecht D., \"*Multiple scales methods in meteorology*\", \n",
    "in: Asymptotic Methods in Fluid Mechanics: Survey and Recent Advances, \n",
    "Springer Series: CISM International Centre for Mechanical Sciences, 523, 127--196, (2011)\n",
    "\n",
    "[2] Bouchut, François., \"*Efficient numerical finite volume schemes for shallow water models.*\", Edited Series on Advances in Nonlinear Science and Complexity 2 (2007): 189-256.\n",
    "\n",
    "[3] Audusse, Emmanuel, et al., \"*A fast and stable well-balanced scheme with hydrostatic reconstruction for shallow water flows.*\" SIAM Journal on Scientific Computing 25.6 (2004): 2050-2065.\n",
    "\n",
    "__Note:__ Please download the shallow water equations code."
   ]
  },
  {
   "cell_type": "markdown",
   "metadata": {},
   "source": [
    "The code implements an explicit well-balanced shock-capturing scheme [2, 3] for the quasi-one dimensional SWE including bottom orography and coriolis effect which is given by,\n",
    "\n",
    "<center>\n",
    "    $h_{t} + (hu)_{x} = 0$ <br>\n",
    "    $(hu)_{t} + (hu^{2} + \\pi)_{x} - fhv = -ghz_{x}$ <br>\n",
    "    $(hv)_{t} + (huv)_{x} + fhu = 0$ <br>\n",
    "    $\\pi = gh^{2}/2$\n",
    "</center>\n",
    "\n",
    "All quantities are described in accordance with the previous tutorials. $z(x)$ is the time dependent orography and $f$ is the constant coriolis parameter."
   ]
  },
  {
   "cell_type": "markdown",
   "metadata": {},
   "source": [
    "__Exercises:__\n",
    "\n",
    "(15) List the modules/components/subroutines of the code and their respective functions; sketch out a flow map. <br>(*__Hint:__ Open a terminal and type __pydoc -b__ in the directory of the code*)<br>\n",
    "(16) Try running main.py (This loads a defaule example). Try changing this. <br>\n",
    "(17) Find out how to setup your own experiment and where you can access and modify the inital and boundary conditions. <br>\n",
    "(18) Implement the local Froude number \n",
    "\n",
    "<center>\n",
    "    $Fr(t, x) = \\frac{u(t, x)}{c(t, x)}$\n",
    "</center>\n",
    "\n",
    "where $c = \\sqrt{gh}$<br>"
   ]
  }
 ],
 "metadata": {
  "kernelspec": {
   "display_name": "Python 3",
   "language": "python",
   "name": "python3"
  },
  "language_info": {
   "codemirror_mode": {
    "name": "ipython",
    "version": 3
   },
   "file_extension": ".py",
   "mimetype": "text/x-python",
   "name": "python",
   "nbconvert_exporter": "python",
   "pygments_lexer": "ipython3",
   "version": "3.7.3"
  }
 },
 "nbformat": 4,
 "nbformat_minor": 2
}
