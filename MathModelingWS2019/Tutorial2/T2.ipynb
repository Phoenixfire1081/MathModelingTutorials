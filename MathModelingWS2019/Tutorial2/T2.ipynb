{
 "cells": [
  {
   "cell_type": "markdown",
   "metadata": {},
   "source": [
    "# Math modeling in Climate Research\n",
    "\n",
    "## Tutorial 2 - Oscillator Asymptotics\n",
    "\n",
    "References:\n",
    "\n",
    "[1] Klein R., Vater S., Päschke E., Ruprecht D., *Multiple scales methods in meteorology*, \n",
    "in: Asymptotic Methods in Fluid Mechanics: Survey and Recent Advances, \n",
    "Springer Series: CISM International Centre for Mechanical Sciences, 523, 127--196, (2011)"
   ]
  },
  {
   "cell_type": "markdown",
   "metadata": {},
   "source": [
    "### Dimensionless representation of the oscillator problem\n",
    "\n",
    "(4) Using results from the previous tutorial, derive a dimensionless representation of the linear oscillator [1] given by\n",
    "<br><br>\n",
    "\n",
    "<center>\n",
    "$m \\ddot{x} + k\\dot{x} + cx = F_{0} cos (\\Omega t)$\n",
    "</center>\n",
    "\n",
    "and initial conditions $x(0) = x_{0}$ and $\\dot{x}(0) = \\dot{x}_{0}$."
   ]
  },
  {
   "cell_type": "markdown",
   "metadata": {},
   "source": [
    "### Exercises in Asymptotic analysis\n",
    "\n",
    "Given an algebraic sequence $\\phi_{n} (\\epsilon) = \\epsilon^{n}$ and $n = 0, 1, 2,...$, determine an asymptotic 2-term evolution of the solution x (for $\\epsilon << 1$) for the following:\n",
    "\n",
    "(5) $x^{2} + x - \\epsilon = 0$ <br>\n",
    "(6) $x^{2} - (2 + \\epsilon)x + 1 + \\epsilon = 0$ <br>\n",
    "(7) $x^{2} + (1 - \\epsilon - \\epsilon^{2})x + \\epsilon - 2e^{\\epsilon^{2}} = 0$"
   ]
  },
  {
   "cell_type": "markdown",
   "metadata": {},
   "source": [
    "### Impact of choosing a distinguished limit\n",
    "\n",
    "_**Case 1:**_ $\\mu$ ~ $\\kappa$ ($\\mu = \\epsilon$ and $\\kappa = \\epsilon \\hat{\\kappa}$ with $\\hat{\\kappa}$ = const. as $\\epsilon \\rightarrow 0$)\n",
    "\n",
    "_**Slow-time Asymptotic Expansion**_\n",
    "\n",
    "For case 1, the oscillator's governing equation can be written as \n",
    "\n",
    "<center>\n",
    "$\\epsilon y'' + \\epsilon \\hat{\\kappa} y' + y = cos \\tau$\n",
    "</center>\n",
    "\n",
    "If we choose an ansatz of the following form\n",
    "\n",
    "<center>\n",
    "$y(\\tau; \\epsilon) = y^{(0)}(\\tau) + \\epsilon y^{(1)}(\\tau) + \\epsilon^{2}y^{(2)}(\\tau) + \\mathcal{O}(\\epsilon^{2})$\n",
    "</center>\n",
    "\n",
    "we can obtain the following second-order accurate asymptotic solution\n",
    "\n",
    "<center>\n",
    "$y(\\tau; \\epsilon) = cos \\tau + \\epsilon (cos \\tau + \\hat{\\kappa} sin \\tau) + \\epsilon^{2} ((1 - \\hat{\\kappa}^{2}) cos \\tau + 2 \\hat{\\kappa} sin \\tau) + \\mathcal{O}(\\epsilon^{2})$\n",
    "</center>\n",
    "\n",
    "(8) Choosing $\\epsilon = 0.2$ and $\\hat{\\kappa} = 0.2$, plot $y(\\tau; \\epsilon) = y^{(0)}(\\tau)$, $y(\\tau; \\epsilon) = y^{(0)}(\\tau) + \\epsilon y^{(1)}(\\tau)$ and $y(\\tau; \\epsilon) = y^{(0)}(\\tau) + \\epsilon y^{(1)}(\\tau) + \\epsilon^{2}y^{(2)}(\\tau)$ with different colors."
   ]
  },
  {
   "cell_type": "markdown",
   "metadata": {},
   "source": [
    "(9) Derive the approximate solution for the other two cases with asymptotic analysis and make a plot similar to problem 8\n",
    "\n",
    "_**Case 2:**_ $\\mu$ ~ $\\kappa^{2}$ ($\\mu = \\epsilon$ and $\\kappa = \\sqrt{\\epsilon} \\hat{\\kappa}$ with $\\hat{\\kappa}$ = const. as $\\epsilon \\rightarrow 0$)\n",
    "\n",
    "_**Case 3:**_ $\\mu$ ~ $\\kappa^{3}$ ($\\mu = \\epsilon$ and $\\kappa = \\epsilon^{1/3} \\hat{\\kappa}$ with $\\hat{\\kappa}$ = const. as $\\epsilon \\rightarrow 0$)"
   ]
  }
 ],
 "metadata": {
  "kernelspec": {
   "display_name": "Python 3",
   "language": "python",
   "name": "python3"
  },
  "language_info": {
   "codemirror_mode": {
    "name": "ipython",
    "version": 3
   },
   "file_extension": ".py",
   "mimetype": "text/x-python",
   "name": "python",
   "nbconvert_exporter": "python",
   "pygments_lexer": "ipython3",
   "version": "3.7.3"
  }
 },
 "nbformat": 4,
 "nbformat_minor": 2
}
