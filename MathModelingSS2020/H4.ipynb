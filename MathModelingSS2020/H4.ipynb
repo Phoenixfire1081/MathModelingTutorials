{
 "cells": [
  {
   "cell_type": "markdown",
   "metadata": {},
   "source": [
    "# Mathematical Modelling in Climate Research\n",
    "\n",
    "## Homework - 4\n",
    "\n",
    "References:\n",
    "\n",
    "[[1](https://www.whoi.edu/fileserver.do?id=21476&pt=10&p=17353)] Provenzale A., Balmforth N.J., Chaos and Structures in Geophysics and Astrophysics, lecture notes.\n",
    "\n",
    "__Prerequisite for this notebook:__ [Pint](https://pint.readthedocs.io/en/0.9/)"
   ]
  },
  {
   "cell_type": "markdown",
   "metadata": {},
   "source": [
    "**Exercise 1:** Consider the motion of a small particle in a stratified atmosphere:\n",
    "\n",
    "\\begin{equation}\n",
    "\\ddot{z} = g \\frac{\\rho{z} - \\rho_{P}}{\\rho_{P}}\n",
    "\\tag{1}\n",
    "\\end{equation}\n",
    "\n",
    "where $g$ is the gravity, $\\rho(z) = \\rho_{P} + \\alpha z + \\gamma z^{3}$, with $\\alpha < 0$ and $\\gamma > 0$, is the (parameterized) density of the ambient fuid and the particle is at equilibrium at a height $z = 0$, where $\\rho(0) = \\rho_{P}$.\n",
    "\n",
    "Find the critical points and discuss the linearization of the equation in the neighbourhood of\n",
    "each critical point. Compare the phase portrait of the full nonlinear equation (Figure 1) with\n",
    "the phase portraits of the linearized equations."
   ]
  },
  {
   "cell_type": "markdown",
   "metadata": {},
   "source": [
    "![](DustGrainPortrait.png)\n",
    "\n",
    "<center>Figure 1: Phase portrait of the dust grain motion in a nonlinear atmospheric stratification, with $\\alpha < 0$ and $\\gamma > 0$ [1].</center>"
   ]
  },
  {
   "cell_type": "markdown",
   "metadata": {},
   "source": [
    "**Exercise 2:** Consider the second-order equation $\\ddot{x} + \\dot{x} - x - x^{3} = 0$ or the equivalent system $\\dot{x}_{1} = x_{2}, \\dot{x}_{2} = x_{1} - x_{2} - x_{1}^{3}$.\n",
    "\n",
    "(a) Prove that the function $V(x)=-\\frac{1}{2}x_{1}^{2} + \\frac{1}{4}x_{1}^{4} + \\frac{1}{2}x_{2}^{2}$ decreases along trajectories.\n",
    "\n",
    "(b) Show that each orbit is bounded. _Hint: show that the level set $V^{-1}(c)$ is closed for $c$ large_.\n",
    "\n",
    "(c) Show that the critical points $(-1,0)$ and $(1,0)$ are asymptotically stable while $(0,0)$ is a saddle point.\n",
    "\n",
    "(d) Let $\\mathcal{A}=W^{u}(0,0) \\cup  \\lbrace (-1,0) \\rbrace  \\cup \\lbrace (1,0) \\rbrace $, where $W^{u}(0,0) $ is the unstable manifold of $(0,0)$, i.e., $W^{u}(0,0) =\\lbrace x \\in  \\mathbb{R}^{2} \\colon \\Phi_{t}(x) \\to (0,0) \\text{as }  t \\to -\\infty \\rbrace$. Prove that the $\\alpha$-limit set $\\alpha(x_{0})$ for any point $x_{0} \\in \\mathcal{A}$ is an equilibrium point.\n",
    "\n",
    "(e) Sketch a phase diagram of the system $(x_{1}, x_{2})$. Mark the three fixed points and the directions of the orbits. Mark a region bounded by a certain level set of $V(x)$. Where do orbits go in relation to this level set? Conclude that $\\mathcal{A}$ is the global attractor. \n",
    "\n",
    "(f) Plot several orbits with different starting points to verify point (e). You can solve the equation in Matlab  over the time interval $I=[0,20]$ with initial conditions (for example) $(x_{0},y_{0})=\\lbrace(2,1), (-2,1),(-2,-1),(2,-1),(0.2,0),(-0.2,0) \\rbrace$."
   ]
  }
 ],
 "metadata": {
  "kernelspec": {
   "display_name": "Python 3 (ipykernel)",
   "language": "python",
   "name": "python3"
  },
  "language_info": {
   "codemirror_mode": {
    "name": "ipython",
    "version": 3
   },
   "file_extension": ".py",
   "mimetype": "text/x-python",
   "name": "python",
   "nbconvert_exporter": "python",
   "pygments_lexer": "ipython3",
   "version": "3.12.3"
  }
 },
 "nbformat": 4,
 "nbformat_minor": 4
}
