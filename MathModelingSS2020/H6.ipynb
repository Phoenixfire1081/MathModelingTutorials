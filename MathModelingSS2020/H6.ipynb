{
 "cells": [
  {
   "cell_type": "markdown",
   "metadata": {},
   "source": [
    "# Mathematical Modelling in Climate Research\n",
    "\n",
    "## Homework 6 - The Stommel model\n",
    "\n",
    "References:\n",
    "\n",
    "[1] Hans Kaper and Hans Engler, Mathematics and Climate, Society for Industrial and Applied Mathematics (SIAM), Philadelphia, Pennsylvania (2013)"
   ]
  },
  {
   "cell_type": "markdown",
   "metadata": {},
   "source": [
    "### Background\n",
    "\n",
    "As opposed to wind-driven currents and tides (which are due to the gravity of the moon and the sun), the thermohaline circulation (THC) (Figure 1) is that part of the ocean circulation which is driven by density differences. Sea water density depends on temperature and salinity, hence the name thermo-haline. The salinity and temperature differences arise from heating/cooling at the sea surface and from the surface freshwater fluxes; evaporation and sea ice formation enhance salinity, precipitation, runoff and ice melt decrease salinity. Heat sources at the ocean bottom play a minor role."
   ]
  },
  {
   "cell_type": "markdown",
   "metadata": {},
   "source": [
    "<div>\n",
    "<img src=\"THC.jpg\"/>\n",
    "</div>\n",
    "<br>\n",
    "<center>Figure 1: Ocean circulation (Rahmstorf, 2002)</center>"
   ]
  },
  {
   "cell_type": "markdown",
   "metadata": {},
   "source": [
    "In contrast to the wind-driven currents, the THC is not confined to surface waters but can be regarded as a big overturning of the world ocean, from top to bottom. The thermohaline circulation consists of:\n",
    "<br><br>\n",
    "-> Deep water formation: the sinking of water masses, closely associated with (but not to be confused with) convection, which is a vertical mixing process. Deep water formation takes place in a few localised areas: the Greenland-Norwegian Sea, the Labrador Sea, the Mediterean Sea, the Wedell Sea, the Ross Sea.<br><br>\n",
    "-> Spreading of deep waters, mainly as deep western boundary currents (e.g. North Atlantic Deep Water, NADW, and Antarctic Bottom Water, ABW).<br><br>\n",
    "-> Upwelling of deep waters: this is not localized and difficult to observe. It is thought to take place mainly in the Antarctic Circumpolar region, possibly aided by the wind (Ekman divergence). <br><br>\n",
    "-> Near-surface currents: these are required to close the flow. For example in the Atlantic, the surface currents compensating the outflow of NADW range from the Benguela Current off South Africa via Gulf Stream and North Atlantic Current into the Nordic Seas off Scandinavia. (Note: the Gulf Stream is primarily wind-driven, and the thermohaline circulation contributes only roughly  20\\% to the Gulf Stream).<br>\n",
    "\n",
    "We will discuss a simple box model due to Stommel (1961) used to study the changes in THC caused by e.g. changes in freshwater fluxes.\n",
    "\n",
    "### The Stommel model\n",
    "\n",
    "The Stommel model consists of two well mixed boxes (1: high latitude; 2: low latitude) of equal volume, each characterised by its own uniform temperature $T_{i}$ and salinity $S_{i}$ (Figure 2). The density of the ocean water can be approximated by linear dependencies on temperature and salinity:\n",
    "\n",
    "\\begin{equation}\n",
    "\\rho=\\rho_{0}-\\alpha (T-T_{0}) + \\beta (S-S_{0})\n",
    "\\tag{1}\n",
    "\\end{equation} \n",
    "$\\alpha$ and $\\beta$ are the  thermal and haline expansion coefficients, respectively and the subscript '0' indicates a reference state."
   ]
  },
  {
   "cell_type": "markdown",
   "metadata": {},
   "source": [
    "<div>\n",
    "<img src=\"Stommel.jpg\" width=\"200\"/>\n",
    "</div>\n",
    "<br>\n",
    "<center>Figure 2: Stommel's conceptual model of the THC (Marotzke, 2000)</center>"
   ]
  },
  {
   "cell_type": "markdown",
   "metadata": {},
   "source": [
    "**Exercise 1:** Given equation 1, what is the effect on density of a temperature increase? and a salinity increase?<br>\n",
    "The flow strength, $q[s^{-1}]$, between the boxes can be related to the density difference by a linear law,\n",
    "\n",
    "\\begin{align*}\n",
    "q &=k[\\rho_{1}-\\rho_{2}] \\\\\n",
    "   &=k[\\alpha(T_{2}-T_{1})-\\beta(S_{2}-S_{1})] \\\\\n",
    "   &=k[\\alpha \\Delta T - \\beta \\Delta S] \\,\n",
    "\\end{align*} \n",
    "where $k$ is a hydraulic constant.\n",
    "\n",
    "**Exercise 2:** Discuss the temperature and salinity conditions necessary to have a poleward surface flow ($q>0$). Write the condition in terms of the dimensionless salinity gradient $x=\\frac{\\beta \\Delta S}{\\alpha \\Delta T}$.\n",
    "\n",
    "Assuming that the temperatures of the boxes relax to some reference temperatures imposed by the atmosphere with a timescale $\\gamma^{-1}$, that $H>0$ is the salinity flux out of the high latitude box, and that the exchange of salinity between the box and the atmosphere is negligible, the conservation equation governing the system can be written as:\n",
    "\\begin{align}\n",
    "\\frac{dT_{1}}{dt} &= -\\vert q \\vert \\Delta T + \\gamma(T_{1}^{*}-T_{1}) \\tag{2}\\\\ \n",
    "\\frac{dT_{2}}{dt} &= \\vert q \\vert \\Delta T + \\gamma(T_{2}^{*}-T_{2}) \\tag{3}\\\\ \n",
    "\\frac{dS_{1}}{dt} &= \\vert q \\vert \\Delta S  -H \\tag{4}\\\\ \\tag{5}\n",
    "\\frac{dS_{2}}{dt} &= -\\vert q \\vert \\Delta S + H \\ \n",
    "\\end{align}"
   ]
  },
  {
   "cell_type": "markdown",
   "metadata": {},
   "source": [
    "### 1D model\n",
    "\n",
    "In order to simplify the model, we assume that the temperature relaxation timescale $\\gamma^{-1} \\ll |q|^{-1}$. This is equivalent to assuming that the temperature relaxation time scale is fast (instantaneous) compared to the timescale of overturning circulation. \n",
    "\n",
    "**Exercise 3:** In this case, what are the steady states solutions for the temperatures $T_{1} $ and $T_{2}$?\n",
    "\n",
    "We further assume that in a plausible limiting case the surface freshwater exchange (expressed through an equivalent salinity flux $H$) is imposed by the atmosphere. The conservation equation governing the system are then only those for salinity:\n",
    "\\begin{equation}\\label{salin}\n",
    "\\frac{dS_{2}}{dt}-\\frac{dS_{1}}{dt} =\\frac{d\\Delta S}{dt} =   -2 \\vert q \\vert \\Delta S +2H \\tag{6}\n",
    "\\end{equation}\n",
    "\n",
    "The time evolution of the circulation $q$ is governed by:\n",
    "\\begin{equation}\\label{circul}\n",
    "\\frac{dq}{dt}=-k\\beta \\frac{d\\Delta S}{dt} \\tag{7}\n",
    "\\end{equation}\n",
    "\n",
    "\n",
    "**Exercise 4:** Substitute equation 6 in equation 7 and use $\\Delta S = (-q+ k \\alpha \\Delta \\overline{T})/(k \\beta)$. Show that the resulting steady state solution are:\n",
    "\\begin{align}\n",
    "q_{1,2} &= \\frac{k\\alpha \\Delta \\overline{T}}{2} \\pm \\sqrt{\\left( \\frac{k\\alpha \\Delta \\overline{T}}{2} \\right)^{2} - H k \\beta}, \\ q>0 \\tag{8}\\\\ \\tag{9}\n",
    "q_{3,4} &= \\frac{k\\alpha \\Delta \\overline{T}}{2} \\pm \\sqrt{\\left( \\frac{k\\alpha \\Delta \\overline{T}}{2} \\right)^{2} + H k \\beta}, \\ q<0\n",
    "\\end{align}\n",
    "\n",
    "The solution $q_{3}$ is discarded, because it contradicts the assumption that $q<0$.\n",
    "\n",
    "**Exercise 5:** Show that the salinity equation 6 can be written in the dimensionless form:\n",
    "\n",
    "\\begin{equation} \\label{nondim}\n",
    "\\dot{x}=E-|1-x|x,\\tag{10}\n",
    "\\end{equation}\n",
    "using the dimensionless salinity gradient $x=\\frac{\\beta \\Delta S}{\\alpha \\Delta T}$, the dimensionless surface salinity flux $E=\\frac{\\beta H}{k(\\alpha \\Delta T)^{2}}$ and the advective timescale $t'=(2k\\alpha \\Delta T) t$.\n",
    "\n",
    "**Exercise 6:** Linearize the dimensionless equation 10 around the equilibria points and define the stability of each fixed point. Which equilibrium corresponds to a salinity dominated circulation and which ones correspond to a temperature dominated flow? Which direction does the surface flow take in each case? Draw or plot the bifurcation diagram of the system, showing the equilibrium solutions as a function of the dimensionless surface salinity flux $E$. What happens to the solutions at the points $(E,x^{*})=(0,1)$ and $(1/4,1/2)$? What type of bifurcation point is $(1/4,1/2)$?\n",
    "\n",
    "\n",
    "### 2D model\n",
    "\n",
    "We now want to relax the assumptions made in the previous section that the exchange of salinity with the atmosphere is negligible and that the temperature relaxation timescale is fast (instantaneous) in comparison to the overturning timescale and go back to the original model. In order to simplify the system 2-5 we introduce the quantities $T^{*}$ and $S^{*}$,\n",
    "\\begin{equation}\n",
    "T^{*}=\\frac{1}{2}(T_{1}^{*}-T_{2}^{*}), \\ S^{*}=\\frac{1}{2}(S_{1}^{*}-S_{2}^{*}) \\tag{11}.\n",
    "\\end{equation}\n",
    "The system can now be written in terms of anomalies relative to the equilibrium temperature and salinity of the surrounding basins, further neglecting $H$ (no virtual salt flux):\n",
    "\n",
    "\\begin{align} \n",
    "\\frac{dT_{1}}{dt} &= -\\vert q \\vert \\Delta T + \\gamma_{T}(-T^{*}-T_{1}) \\tag{12}\\\\\n",
    "\\frac{dT_{2}}{dt} &= \\vert q \\vert \\Delta T + \\gamma_{T}(T^{*}-T_{2}) \\tag{13}\\\\\n",
    "\\frac{dS_{1}}{dt} &= \\vert q \\vert \\Delta S +  \\gamma_{S}(-S^{*}-S_{1}) \\tag{14}\\\\ \\tag{15}\n",
    "\\frac{dS_{2}}{dt} &= -\\vert q \\vert \\Delta S +  \\gamma_{S}(S^{*}-S_{1}) \\\n",
    "\\end{align}\n",
    "\n",
    "where $\\gamma_{T}^{-1}$ and $\\gamma_{S}^{-1}$ are the relaxation timescales for temperature and salinity respectively.\n",
    "The differences satisfy the equations\n",
    "\\begin{align} \\label{delta}\n",
    "\\frac{d\\Delta T}{dt} &=  \\gamma_{T}(\\Delta T^{*}-\\Delta T) - 2 \\vert q \\vert \\Delta T , \\tag{16}\\\\ \\tag{17}\n",
    "\\frac{d\\Delta S}{dt} &=  \\gamma_{S}(\\Delta S^{*}-\\Delta S) -2 \\vert q \\vert \\Delta S \\\n",
    "\\end{align}\n",
    "\n",
    "**Exercise 8:** Introduce the dimensionless variables \n",
    "$\n",
    "x=\\frac{\\Delta S}{\\Delta S^{*}}, \\ y=\\frac{\\Delta T}{\\Delta T^{*}}, \\ t'=\\gamma_{T} t.\n",
    "$\n",
    "Show that the system 16 can be written in the form:\n",
    "\n",
    "\\begin{align} \\label{dimlessStom}\n",
    "\\dot{x} &= \\delta (1-x) - |f|x, \\tag{18}\\\\ \\tag{19}\n",
    "\\dot{y} &= 1-y-|f|y,\\ \\label{dimlessStom2}\n",
    "\\end{align}\n",
    "\n",
    "where $\\delta=\\gamma_{S}/\\gamma_{T}$ and $f=-2q/\\gamma_{T}$. \n",
    "\n",
    "**Exercise 9:** What are the equilibrium points of the dynamical system 18-19? Show that $f$ can be written as $f=f(x,y)=(Rx-y)/\\lambda$, where $\\lambda = \\frac{\\gamma_{T}}{2\\alpha k \\Delta T^{*}}$ and $R=\\frac{\\beta \\Delta S^{*}}{\\alpha \\Delta T^{*}}$. Further show that at the equilibrium points, $f$ must satisfy the condition $\\lambda f^* = \\phi(f^*)$, where $\\phi=\\phi(\\lambda;R,\\delta)$. Use your favourite software to produce a graphic of this equilibrium condition for different values of the parameters $\\delta$ and $R$. In the particular case of $\\delta=1/6$, $R=2$ and $\\lambda=1/5$ you should observe that 3 equilibrium solutions are possible. Comment on the physical interpretation of the choice of parameters and the corresponding equilibria. Plot a phase portrait of the non-dimensional salinity and temperature for the Stommel two-box model for this choice of parameter.  \n",
    "\n",
    "\n",
    "**Exercise 10:** Linearize around the critical points. Analyse the trace and the determinant of the Jacobian matrix and show that, for $f^{*}>0$, the equilibrium solution corresponds to a stable spiral point. What kind of circulation does the stable spiral point correspond to?"
   ]
  }
 ],
 "metadata": {
  "kernelspec": {
   "display_name": "Python 3 (ipykernel)",
   "language": "python",
   "name": "python3"
  },
  "language_info": {
   "codemirror_mode": {
    "name": "ipython",
    "version": 3
   },
   "file_extension": ".py",
   "mimetype": "text/x-python",
   "name": "python",
   "nbconvert_exporter": "python",
   "pygments_lexer": "ipython3",
   "version": "3.12.3"
  }
 },
 "nbformat": 4,
 "nbformat_minor": 4
}
