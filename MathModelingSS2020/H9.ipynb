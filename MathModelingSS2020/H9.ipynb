{
 "cells": [
  {
   "cell_type": "markdown",
   "metadata": {},
   "source": [
    "# Mathematical Modelling in Climate Research\n",
    "\n",
    "## Homework 9"
   ]
  },
  {
   "cell_type": "markdown",
   "metadata": {},
   "source": [
    "**Exercise 1:** Consider the Lorenz System\n",
    "\n",
    "\\begin{align*}\n",
    "\\dot{x} &=-\\sigma (x-y) \\\\\n",
    "\\dot{y}  &=\\rho x - y - xz \\\\\n",
    "\\dot{z}  &=xy - \\beta z\\,\\\\\n",
    "\\tag{1} \n",
    "\\end{align*}\n",
    "\n",
    "with $\\sigma =10$ and $\\beta =8/3$\n",
    "\n",
    "(a) Verify numerically that the equilibrium point at the origin is stable for $0<\\rho<1$ and unstable for $1<\\rho< \\rho_{H}$ , where $\\rho_{H}=\\frac{\\sigma(\\sigma +\\beta +3)}{\\sigma - \\beta -1}$, by computing several solutions with random initial data near this equilibrium and observing their behaviour.\n",
    "\n",
    "(b) Verify numerically that the equilibrium points $C_{+}$ and $C_{-}$ are stable for $1<\\rho< \\rho_{H}$ \n",
    "\n",
    "(c) Verify numerically that, for $\\rho>1$ and $\\rho$ close to 1, solutions with initial data near the origin always converge to either  $C_{+}$ or $C_{-}$. This illustrates that the unstable manifold of the system at the origin connects to these equilibrium points. \n",
    "\n",
    "(d) There is a $\\rho_{0}>1$ such that, for $\\rho>\\rho_{0}$, the behaviour in 3) no longer occurs. Try to determine $\\rho_{0}$ to one decimal digit and describe the behaviour of solutions starting near the origin if $\\rho>\\rho_{0}$. \n",
    "\n",
    "(e) Verify numerically that the equilibrium point $C_{+}$ is unstable for  $\\rho> \\rho_{H}$ , where $\\rho_{H}=\\frac{\\sigma(\\sigma +\\beta +3)}{\\sigma - \\beta -1}$, by computing several solutions with random initial data near this equilibrium and observing their behaviour.\n",
    "\n",
    "(f) Verify numerically that, for $\\rho< \\rho_{H}$ and $\\rho$ close to $ \\rho_{H}$, solutions that start near $C_{+}$ converge to $C_{+}$ and solutions that start further away from it do not converge to $C_{+}$ or $C_{-}$. Describe the behaviour of these nonconvergent solutions. This illustrates the fact that $C_{+}$ is locally stable but not globally stable. \n",
    "\n",
    "(g) Make a bifurcation plot and observe the existence of a pitchfork bifurcation at $\\rho = 1$ and a Hopf bifurcation at $\\rho = \\rho_{H}$.\n",
    "\n",
    "(h) Observe the system's sensitivity to initial conditions by considering two neighbouring points $(x_{1} (t), y_{1} (t), z_{1} (t))$ and $(x_{2} (t) + \\delta (t), y_{2} (t), z_{2} (t))$ where $\\delta(t)$ is a small separation of initial length $||\\delta_{0}|| = 10^{-15}$. Make a plot of time vs $ln(||\\delta||)$ to observe the magnitude of separation."
   ]
  }
 ],
 "metadata": {
  "kernelspec": {
   "display_name": "Python 3",
   "language": "python",
   "name": "python3"
  },
  "language_info": {
   "codemirror_mode": {
    "name": "ipython",
    "version": 3
   },
   "file_extension": ".py",
   "mimetype": "text/x-python",
   "name": "python",
   "nbconvert_exporter": "python",
   "pygments_lexer": "ipython3",
   "version": "3.6.9"
  }
 },
 "nbformat": 4,
 "nbformat_minor": 4
}
