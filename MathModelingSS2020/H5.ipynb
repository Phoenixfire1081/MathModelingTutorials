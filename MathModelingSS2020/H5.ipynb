{
 "cells": [
  {
   "cell_type": "markdown",
   "metadata": {},
   "source": [
    "# Mathematical Modelling in Climate Research\n",
    "\n",
    "## Homework - 5\n",
    "\n",
    "References:\n",
    "\n",
    "[[1](https://www.whoi.edu/fileserver.do?id=21476&pt=10&p=17353)] Provenzale A., Balmforth N.J., Chaos and Structures in Geophysics and Astrophysics, lecture notes.\n",
    "\n",
    "__Prerequisite for this notebook:__ [Pint](https://pint.readthedocs.io/en/0.9/)"
   ]
  },
  {
   "cell_type": "markdown",
   "metadata": {},
   "source": [
    "**Exercise 1:** Consider the family of linear systems\n",
    "\n",
    "\\begin{equation}\n",
    "\\frac{dx}{dt} = y, \\quad x(0) = x_{0}\n",
    "\\end{equation}\n",
    "\n",
    "\\begin{equation}\n",
    "\\frac{dy}{dt} = -x-\\mu y, \\quad y(0) = y_{0}\n",
    "\\end{equation}\n",
    "\n",
    "for a scalar parameter $\\mu \\in \\mathbb{R}$.\n",
    "\n",
    "(a) Characterize the stability of the unique fixed point $(x_{eq}, y_{eq}) = (0, 0)$ as a function of the parameter $\\mu$. Plot the eigenvalue(s) of the Jacobian matrix over the range $-3 \\leq \\mu \\leq 3$ in $0.1$ steps.\n",
    "\n",
    "(b) Solve the equation numerically over the time interval $I = [0, 10]$ with initial condition $(x_{0}, y_{0}) = (1, 0)$ and the parameter values\n",
    "\n",
    "\\begin{equation}\n",
    "\\mu \\in {-2, -1, 0, 1, 2}\n",
    "\\end{equation}\n",
    "\n",
    "Plot the solutions $(x(t; x_{0}, y_{0}), y(t; x_{0}, y_{0}))$ in the x-y plane and explain your observation."
   ]
  },
  {
   "cell_type": "markdown",
   "metadata": {},
   "source": [
    "**Exercise 2:** Consider the Lorenz system\n",
    "\n",
    "\\begin{equation}\n",
    "\\dot{x} = -\\sigma (x-y)\\\\\n",
    "\\dot{y} = \\rho x - y - xz\\\\\n",
    "\\dot{z} = xy - \\beta z\n",
    "\\end{equation}\n",
    "\n",
    "where we choose $\\sigma = 10, \\beta = 8/3$ and $0 < \\rho < 24$.\n",
    "\n",
    "(a) Identify the fixed points of the depending on the value of $\\rho$. Determine the stability of the fixed point for $0 < \\rho < 1$.\n",
    "\n",
    "(b) In the parameter range $1 < \\rho < 24$, there are 3 fixed points, which we call $C_{0}, C_{+}$ and $C_{-}$. The last two fixed points are stable foci:\n",
    "\n",
    "\\begin{equation}\n",
    "C_{0} := (0, 0, 0), \\\\\n",
    "C_{\\pm} := (\\pm \\xi, \\pm \\xi, \\rho - 1), \\xi = \\sqrt{\\beta (\\rho -1)}\n",
    "\\end{equation}\n",
    "\n",
    "Show that $C_{0}, C_{+}$ and $C_{-}$ are indeed fixed points of the system. Further show that for $\\rho > 1$, $C_{0}$ is a saddle with two stable and one unstable direction.\n",
    "\n",
    "(c) Integrate the system numerically for $\\rho = 22$, starting at the point $(3, 15, 1)$. Plot the solution in the phase space and plot the timeseries of $x, y$ and $z$. Do the same with $\\rho = 28$ and compare the results."
   ]
  },
  {
   "cell_type": "markdown",
   "metadata": {},
   "source": [
    "**Exercise 3:** Consider the zero-dimensional energy balance model $C (dT/dt) = (1 - \\alpha (T)) Q - \\epsilon \\sigma T^{4}$ with the following model for the albedo $\\alpha(T)$:\n",
    "\n",
    "\\begin{equation}\n",
    "\\alpha (T) = 0.7 - 0.4 \\frac{e^{\\frac{T - 265}{5}}}{1+e^{\\frac{T - 265}{5}}}\n",
    "\\end{equation}\n",
    "\n",
    "The greenhouse effect is represented by the parameter $\\epsilon = 0.66$ and $\\sigma$ is the Stefan - Boltzmann constant, $\\sigma = 5.67 \\times 10^{-8} W.m^{-2}.K^{-4}$. Consider the dimensionless solar input parameter $Q/Q_{0}$ as a \\emph{bifurcation parameter}, where $Q_0$ is the current value of the solar input $Q_0=342 \\, W.m^{-2}$. Study the behaviour of the equilibrium states as a function of this bifurcation parameter. What type of bifurcation is occurring in this system? Summarise your results in a bifurcation diagram and discuss the different transition scenarii. Note that one could also consider $\\epsilon$, i.e. the greenhouse effect, as a bifurcation parameter."
   ]
  }
 ],
 "metadata": {
  "kernelspec": {
   "display_name": "Python 3",
   "language": "python",
   "name": "python3"
  },
  "language_info": {
   "codemirror_mode": {
    "name": "ipython",
    "version": 3
   },
   "file_extension": ".py",
   "mimetype": "text/x-python",
   "name": "python",
   "nbconvert_exporter": "python",
   "pygments_lexer": "ipython3",
   "version": "3.6.9"
  }
 },
 "nbformat": 4,
 "nbformat_minor": 4
}
